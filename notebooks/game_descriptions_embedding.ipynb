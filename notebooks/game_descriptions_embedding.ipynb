{
 "cells": [
  {
   "cell_type": "code",
   "execution_count": 17,
   "id": "1d36f680-e812-40b5-8bfa-ab9fa84bdd93",
   "metadata": {},
   "outputs": [],
   "source": [
    "import torch\n",
    "import pandas as pd\n",
    "from pathlib import Path\n",
    "from sentence_transformers import SentenceTransformer\n",
    "from tqdm import tqdm\n",
    "import os"
   ]
  },
  {
   "cell_type": "code",
   "execution_count": 18,
   "id": "88ce10c2-a375-44ba-a645-adc3ab2e73f3",
   "metadata": {},
   "outputs": [
    {
     "name": "stdout",
     "output_type": "stream",
     "text": [
      "Using device: cuda\n"
     ]
    }
   ],
   "source": [
    "device = torch.device(\"cuda\" if torch.cuda.is_available() else \"cpu\")\n",
    "print(f\"Using device: {device}\")\n",
    "model = SentenceTransformer('sentence-transformers/all-MiniLM-L6-v2', device=device)"
   ]
  },
  {
   "cell_type": "code",
   "execution_count": 25,
   "id": "e054ab67-efea-45f9-9038-c03ec204aa4c",
   "metadata": {},
   "outputs": [
    {
     "data": {
      "text/plain": [
       "89618"
      ]
     },
     "execution_count": 25,
     "metadata": {},
     "output_type": "execute_result"
    }
   ],
   "source": [
    "# Load the CSV file\n",
    "csv_path = Path(\"../data/steam_games/meta_data/games_march2025_cleaned.csv\")\n",
    "df = pd.read_csv(csv_path)\n",
    "len(df)"
   ]
  },
  {
   "cell_type": "code",
   "execution_count": 26,
   "id": "4b324d47-f48d-4f20-9f69-fee7d3fa3c18",
   "metadata": {},
   "outputs": [],
   "source": [
    "# Get descriptions\n",
    "def get_description(row):\n",
    "    \"\"\"\n",
    "    Select the best available game description from prioritized fields.\n",
    "\n",
    "    Checks the following columns in order: \n",
    "    'detailed_description', 'about_the_game', and 'short_description'.\n",
    "\n",
    "    Returns the first non-empty, non-null string.\n",
    "    \n",
    "    Args:\n",
    "        row: A row from a pandas DataFrame representing a game.\n",
    "\n",
    "    Returns:\n",
    "        str or None: The best available description, or None if all are missing.\n",
    "    \"\"\"\n",
    "    for col in [\"detailed_description\", \"about_the_game\", \"short_description\"]:\n",
    "        if pd.notna(row[col]) and str(row[col]).strip():\n",
    "            return row[col]\n",
    "    return None"
   ]
  },
  {
   "cell_type": "code",
   "execution_count": 27,
   "id": "321f95a7-ec63-43f2-92f3-1b7dc89244d6",
   "metadata": {},
   "outputs": [
    {
     "data": {
      "text/plain": [
       "89500"
      ]
     },
     "execution_count": 27,
     "metadata": {},
     "output_type": "execute_result"
    }
   ],
   "source": [
    "# Preprocess descriptions\n",
    "df[\"description\"] = df.apply(get_description, axis=1)\n",
    "df = df[df[\"description\"].notna()].reset_index(drop=True)\n",
    "len(df)"
   ]
  },
  {
   "cell_type": "code",
   "execution_count": 28,
   "id": "b6cf9478-dc82-4fe7-a720-7720da97e217",
   "metadata": {},
   "outputs": [],
   "source": [
    "output_dir = Path(\"description_feats\")\n",
    "output_dir.mkdir(parents=True, exist_ok=True)"
   ]
  },
  {
   "cell_type": "code",
   "execution_count": 30,
   "id": "274ae8f2-306c-42e4-97c7-57d475fd1a92",
   "metadata": {},
   "outputs": [],
   "source": [
    "df = df.head(10)"
   ]
  },
  {
   "cell_type": "code",
   "execution_count": 31,
   "id": "3762ffdf-760f-4f61-b3a3-cec2e58ac520",
   "metadata": {},
   "outputs": [
    {
     "name": "stderr",
     "output_type": "stream",
     "text": [
      "Encoding descriptions: 100%|██████████████████████████████████████████████████████████████████████████████████████████████████████████████████| 10/10 [00:02<00:00,  3.90it/s]\n"
     ]
    }
   ],
   "source": [
    "# Encode and save\n",
    "for _, row in tqdm(df.iterrows(), total=len(df), desc=\"Encoding descriptions\"):\n",
    "    appid = row[\"appid\"]\n",
    "    desc = row[\"description\"]\n",
    "    embedding = model.encode(desc, convert_to_tensor=True)\n",
    "    torch.save(embedding.cpu(), output_dir / f\"{appid}_description.pt\")"
   ]
  }
 ],
 "metadata": {
  "kernelspec": {
   "display_name": "Python (game-inn)",
   "language": "python",
   "name": "game-inn"
  },
  "language_info": {
   "codemirror_mode": {
    "name": "ipython",
    "version": 3
   },
   "file_extension": ".py",
   "mimetype": "text/x-python",
   "name": "python",
   "nbconvert_exporter": "python",
   "pygments_lexer": "ipython3",
   "version": "3.12.4"
  }
 },
 "nbformat": 4,
 "nbformat_minor": 5
}
