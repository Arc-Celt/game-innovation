{
 "cells": [
  {
   "cell_type": "code",
   "execution_count": 1,
   "id": "6c37c07b",
   "metadata": {},
   "outputs": [],
   "source": [
    "import pandas as pd\n",
    "import polars as pl\n",
    "import numpy as np\n",
    "import re\n",
    "import os\n",
    "import sys\n",
    "import json\n",
    "import torch\n",
    "from tqdm import tqdm"
   ]
  },
  {
   "cell_type": "code",
   "execution_count": 2,
   "id": "1ba54c5c-bd1f-4447-81f4-f25a06707ea7",
   "metadata": {},
   "outputs": [
    {
     "name": "stdout",
     "output_type": "stream",
     "text": [
      "Using device: cuda\n"
     ]
    }
   ],
   "source": [
    "device = torch.device(\"cuda\" if torch.cuda.is_available() else \"cpu\")\n",
    "print(f\"Using device: {device}\")"
   ]
  },
  {
   "cell_type": "code",
   "execution_count": 3,
   "id": "9a9ac194-fe26-4356-a2f6-dff850e6d8d7",
   "metadata": {},
   "outputs": [
    {
     "name": "stderr",
     "output_type": "stream",
     "text": [
      "/scratch/arccelt/venvs/game-inn/lib/python3.12/site-packages/tqdm/auto.py:21: TqdmWarning: IProgress not found. Please update jupyter and ipywidgets. See https://ipywidgets.readthedocs.io/en/stable/user_install.html\n",
      "  from .autonotebook import tqdm as notebook_tqdm\n",
      "Sliding Window Attention is enabled but not implemented for `sdpa`; unexpected results may be encountered.\n",
      "Loading checkpoint shards: 100%|████████████████████████████████████████████████████████████████████████████████████████████████████████████████| 4/4 [00:01<00:00,  3.06it/s]\n"
     ]
    },
    {
     "data": {
      "text/plain": [
       "Qwen2ForCausalLM(\n",
       "  (model): Qwen2Model(\n",
       "    (embed_tokens): Embedding(152064, 3584)\n",
       "    (layers): ModuleList(\n",
       "      (0-27): 28 x Qwen2DecoderLayer(\n",
       "        (self_attn): Qwen2Attention(\n",
       "          (q_proj): Linear(in_features=3584, out_features=3584, bias=True)\n",
       "          (k_proj): Linear(in_features=3584, out_features=512, bias=True)\n",
       "          (v_proj): Linear(in_features=3584, out_features=512, bias=True)\n",
       "          (o_proj): Linear(in_features=3584, out_features=3584, bias=False)\n",
       "        )\n",
       "        (mlp): Qwen2MLP(\n",
       "          (gate_proj): Linear(in_features=3584, out_features=18944, bias=False)\n",
       "          (up_proj): Linear(in_features=3584, out_features=18944, bias=False)\n",
       "          (down_proj): Linear(in_features=18944, out_features=3584, bias=False)\n",
       "          (act_fn): SiLU()\n",
       "        )\n",
       "        (input_layernorm): Qwen2RMSNorm((3584,), eps=1e-06)\n",
       "        (post_attention_layernorm): Qwen2RMSNorm((3584,), eps=1e-06)\n",
       "      )\n",
       "    )\n",
       "    (norm): Qwen2RMSNorm((3584,), eps=1e-06)\n",
       "    (rotary_emb): Qwen2RotaryEmbedding()\n",
       "  )\n",
       "  (lm_head): Linear(in_features=3584, out_features=152064, bias=False)\n",
       ")"
      ]
     },
     "execution_count": 3,
     "metadata": {},
     "output_type": "execute_result"
    }
   ],
   "source": [
    "from transformers import AutoTokenizer, AutoModelForCausalLM\n",
    "import torch\n",
    "\n",
    "model_id = \"Qwen/Qwen2.5-7B-Instruct\"\n",
    "\n",
    "tokenizer = AutoTokenizer.from_pretrained(model_id)\n",
    "model = AutoModelForCausalLM.from_pretrained(\n",
    "    model_id,\n",
    "    torch_dtype=torch.bfloat16\n",
    ").to(device)\n",
    "\n",
    "model.eval()"
   ]
  },
  {
   "cell_type": "code",
   "execution_count": null,
   "id": "36ad874b",
   "metadata": {},
   "outputs": [],
   "source": [
    "df = pl.read_csv(\n",
    "    '../data/user_reviews/raw/all_reviews/all_reviews.csv',\n",
    "    columns=[\"recommendationid\", \"appid\", \"game\", \"review\"],\n",
    "    low_memory=True\n",
    ")"
   ]
  },
  {
   "cell_type": "code",
   "execution_count": 5,
   "id": "80fd5b09",
   "metadata": {},
   "outputs": [
    {
     "data": {
      "text/plain": [
       "Schema([('recommendationid', Int64),\n",
       "        ('appid', Int64),\n",
       "        ('game', String),\n",
       "        ('review', String)])"
      ]
     },
     "execution_count": 5,
     "metadata": {},
     "output_type": "execute_result"
    }
   ],
   "source": [
    "df.schema"
   ]
  },
  {
   "cell_type": "code",
   "execution_count": 6,
   "id": "0145c939",
   "metadata": {},
   "outputs": [
    {
     "data": {
      "text/html": [
       "<div><style>\n",
       ".dataframe > thead > tr,\n",
       ".dataframe > tbody > tr {\n",
       "  text-align: right;\n",
       "  white-space: pre-wrap;\n",
       "}\n",
       "</style>\n",
       "<small>shape: (3, 4)</small><table border=\"1\" class=\"dataframe\"><thead><tr><th>recommendationid</th><th>appid</th><th>game</th><th>review</th></tr><tr><td>i64</td><td>i64</td><td>str</td><td>str</td></tr></thead><tbody><tr><td>148919893</td><td>10</td><td>&quot;Counter-Strike&quot;</td><td>&quot;старость&quot;</td></tr><tr><td>148919350</td><td>10</td><td>&quot;Counter-Strike&quot;</td><td>&quot;Лучше кс 2&quot;</td></tr><tr><td>148913051</td><td>10</td><td>&quot;Counter-Strike&quot;</td><td>&quot;çoh iyi ama pahalı&quot;</td></tr></tbody></table></div>"
      ],
      "text/plain": [
       "shape: (3, 4)\n",
       "┌──────────────────┬───────┬────────────────┬────────────────────┐\n",
       "│ recommendationid ┆ appid ┆ game           ┆ review             │\n",
       "│ ---              ┆ ---   ┆ ---            ┆ ---                │\n",
       "│ i64              ┆ i64   ┆ str            ┆ str                │\n",
       "╞══════════════════╪═══════╪════════════════╪════════════════════╡\n",
       "│ 148919893        ┆ 10    ┆ Counter-Strike ┆ старость           │\n",
       "│ 148919350        ┆ 10    ┆ Counter-Strike ┆ Лучше кс 2         │\n",
       "│ 148913051        ┆ 10    ┆ Counter-Strike ┆ çoh iyi ama pahalı │\n",
       "└──────────────────┴───────┴────────────────┴────────────────────┘"
      ]
     },
     "execution_count": 6,
     "metadata": {},
     "output_type": "execute_result"
    }
   ],
   "source": [
    "df.head(3)"
   ]
  },
  {
   "cell_type": "code",
   "execution_count": 7,
   "id": "abf7d07a",
   "metadata": {},
   "outputs": [
    {
     "data": {
      "text/html": [
       "<div><style>\n",
       ".dataframe > thead > tr,\n",
       ".dataframe > tbody > tr {\n",
       "  text-align: right;\n",
       "  white-space: pre-wrap;\n",
       "}\n",
       "</style>\n",
       "<small>shape: (10, 3)</small><table border=\"1\" class=\"dataframe\"><thead><tr><th>appid</th><th>game</th><th>review_count</th></tr><tr><td>i64</td><td>str</td><td>u32</td></tr></thead><tbody><tr><td>730</td><td>&quot;Counter-Strike 2&quot;</td><td>7704653</td></tr><tr><td>578080</td><td>&quot;PUBG: BATTLEGROUNDS&quot;</td><td>2235431</td></tr><tr><td>271590</td><td>&quot;Grand Theft Auto V&quot;</td><td>1659263</td></tr><tr><td>105600</td><td>&quot;Terraria&quot;</td><td>1205564</td></tr><tr><td>359550</td><td>&quot;Tom Clancy&#x27;s Rainbow Six Siege&quot;</td><td>1191091</td></tr><tr><td>4000</td><td>&quot;Garry&#x27;s Mod&quot;</td><td>1006609</td></tr><tr><td>440</td><td>&quot;Team Fortress 2&quot;</td><td>998601</td></tr><tr><td>252490</td><td>&quot;Rust&quot;</td><td>974388</td></tr><tr><td>550</td><td>&quot;Left 4 Dead 2&quot;</td><td>789098</td></tr><tr><td>1172470</td><td>&quot;Apex Legends&quot;</td><td>736399</td></tr></tbody></table></div>"
      ],
      "text/plain": [
       "shape: (10, 3)\n",
       "┌─────────┬────────────────────────────────┬──────────────┐\n",
       "│ appid   ┆ game                           ┆ review_count │\n",
       "│ ---     ┆ ---                            ┆ ---          │\n",
       "│ i64     ┆ str                            ┆ u32          │\n",
       "╞═════════╪════════════════════════════════╪══════════════╡\n",
       "│ 730     ┆ Counter-Strike 2               ┆ 7704653      │\n",
       "│ 578080  ┆ PUBG: BATTLEGROUNDS            ┆ 2235431      │\n",
       "│ 271590  ┆ Grand Theft Auto V             ┆ 1659263      │\n",
       "│ 105600  ┆ Terraria                       ┆ 1205564      │\n",
       "│ 359550  ┆ Tom Clancy's Rainbow Six Siege ┆ 1191091      │\n",
       "│ 4000    ┆ Garry's Mod                    ┆ 1006609      │\n",
       "│ 440     ┆ Team Fortress 2                ┆ 998601       │\n",
       "│ 252490  ┆ Rust                           ┆ 974388       │\n",
       "│ 550     ┆ Left 4 Dead 2                  ┆ 789098       │\n",
       "│ 1172470 ┆ Apex Legends                   ┆ 736399       │\n",
       "└─────────┴────────────────────────────────┴──────────────┘"
      ]
     },
     "execution_count": 7,
     "metadata": {},
     "output_type": "execute_result"
    }
   ],
   "source": [
    "# Count the number of reviews for each game\n",
    "review_counts = (\n",
    "    df\n",
    "    .group_by([\"appid\", \"game\"])\n",
    "    .agg(pl.len().alias(\"review_count\"))\n",
    "    .sort(\"review_count\", descending=True)\n",
    ")\n",
    "review_counts.head(10)"
   ]
  },
  {
   "cell_type": "code",
   "execution_count": 8,
   "id": "c1e80724",
   "metadata": {},
   "outputs": [],
   "source": [
    "def make_prompt(review):\n",
    "    return f\"\"\"Extract the player's perception of the game's visual and audio style from the review below.\n",
    "\n",
    "Review: \"{review}\"\n",
    "\n",
    "Return a JSON object like this:\n",
    "{{\n",
    "  \"visual_perception\": <string or null>,\n",
    "  \"audio_perception\": <string or null>\n",
    "}}\n",
    "\n",
    "- Use English.\n",
    "- If not mentioned, use JSON null (not a string).\n",
    "- Output only the JSON. Nothing else.\n",
    "\"\"\""
   ]
  },
  {
   "cell_type": "code",
   "execution_count": 9,
   "id": "53d2a458",
   "metadata": {},
   "outputs": [
    {
     "data": {
      "text/html": [
       "<div><style>\n",
       ".dataframe > thead > tr,\n",
       ".dataframe > tbody > tr {\n",
       "  text-align: right;\n",
       "  white-space: pre-wrap;\n",
       "}\n",
       "</style>\n",
       "<small>shape: (20, 4)</small><table border=\"1\" class=\"dataframe\"><thead><tr><th>recommendationid</th><th>appid</th><th>game</th><th>review</th></tr><tr><td>i64</td><td>i64</td><td>str</td><td>str</td></tr></thead><tbody><tr><td>93432934</td><td>1328660</td><td>&quot;Need for Speed™ Hot Pursuit Re…</td><td>&quot;Just a graphical upgrade with …</td></tr><tr><td>16366885</td><td>218820</td><td>&quot;Mercenary Kings&quot;</td><td>&quot;ข้อดี&nbsp;&nbsp;- สนุกมาก - คราฟปืน,มีด…</td></tr><tr><td>99426611</td><td>359550</td><td>&quot;Tom Clancy&#x27;s Rainbow Six Siege&quot;</td><td>&quot;:) 8) me gusta bastante&nbsp;&nbsp;&quot;</td></tr><tr><td>96427458</td><td>1290490</td><td>&quot;UNBEATABLE [white label]&quot;</td><td>&quot;Ohhh my!!!!! Who ever is readi…</td></tr><tr><td>80204144</td><td>22490</td><td>&quot;Fallout: New Vegas PCR&quot;</td><td>&quot;9 гулей в ракете из 10&quot;</td></tr><tr><td>&hellip;</td><td>&hellip;</td><td>&hellip;</td><td>&hellip;</td></tr><tr><td>127110915</td><td>1369320</td><td>&quot;Virtual Cottage&quot;</td><td>&quot;топ за свои деньги&quot;</td></tr><tr><td>109152307</td><td>204030</td><td>&quot;Fable - The Lost Chapters&quot;</td><td>&quot;Fun fact: this game taught me …</td></tr><tr><td>71576818</td><td>431960</td><td>&quot;Wallpaper Engine&quot;</td><td>&quot;最喜欢的就是 去浏览 好友（yiwan）所订阅的壁纸&quot;</td></tr><tr><td>14057292</td><td>730</td><td>&quot;Counter-Strike 2&quot;</td><td>&quot;I like this game&quot;</td></tr><tr><td>17180272</td><td>256290</td><td>&quot;Child of Light&quot;</td><td>&quot;More than likely one of the be…</td></tr></tbody></table></div>"
      ],
      "text/plain": [
       "shape: (20, 4)\n",
       "┌──────────────────┬─────────┬─────────────────────────────────┬─────────────────────────────────┐\n",
       "│ recommendationid ┆ appid   ┆ game                            ┆ review                          │\n",
       "│ ---              ┆ ---     ┆ ---                             ┆ ---                             │\n",
       "│ i64              ┆ i64     ┆ str                             ┆ str                             │\n",
       "╞══════════════════╪═════════╪═════════════════════════════════╪═════════════════════════════════╡\n",
       "│ 93432934         ┆ 1328660 ┆ Need for Speed™ Hot Pursuit Re… ┆ Just a graphical upgrade with … │\n",
       "│ 16366885         ┆ 218820  ┆ Mercenary Kings                 ┆ ข้อดี  - สนุกมาก - คราฟปืน,มีด…      │\n",
       "│ 99426611         ┆ 359550  ┆ Tom Clancy's Rainbow Six Siege  ┆ :) 8) me gusta bastante         │\n",
       "│ 96427458         ┆ 1290490 ┆ UNBEATABLE [white label]        ┆ Ohhh my!!!!! Who ever is readi… │\n",
       "│ 80204144         ┆ 22490   ┆ Fallout: New Vegas PCR          ┆ 9 гулей в ракете из 10          │\n",
       "│ …                ┆ …       ┆ …                               ┆ …                               │\n",
       "│ 127110915        ┆ 1369320 ┆ Virtual Cottage                 ┆ топ за свои деньги              │\n",
       "│ 109152307        ┆ 204030  ┆ Fable - The Lost Chapters       ┆ Fun fact: this game taught me … │\n",
       "│ 71576818         ┆ 431960  ┆ Wallpaper Engine                ┆ 最喜欢的就是 去浏览             │\n",
       "│                  ┆         ┆                                 ┆ 好友（yiwan）所订阅的壁纸       │\n",
       "│ 14057292         ┆ 730     ┆ Counter-Strike 2                ┆ I like this game                │\n",
       "│ 17180272         ┆ 256290  ┆ Child of Light                  ┆ More than likely one of the be… │\n",
       "└──────────────────┴─────────┴─────────────────────────────────┴─────────────────────────────────┘"
      ]
     },
     "execution_count": 9,
     "metadata": {},
     "output_type": "execute_result"
    }
   ],
   "source": [
    "sample_reviews_df = df.sample(n=20, seed=42)\n",
    "sample_reviews = sample_reviews_df[\"review\"].to_list()\n",
    "sample_reviews_df"
   ]
  },
  {
   "cell_type": "code",
   "execution_count": 10,
   "id": "e00d3a0b-89a8-4031-bace-258932f1b134",
   "metadata": {},
   "outputs": [],
   "source": [
    "def extract_json_block(text):\n",
    "    matches = re.findall(\n",
    "        r'{\\s*\"visual_perception\"\\s*:\\s*(\".*?\"|null),\\s*\"audio_perception\"\\s*:\\s*(\".*?\"|null)\\s*}',\n",
    "        text,\n",
    "        re.DOTALL\n",
    "    )\n",
    "    if matches:\n",
    "        try:\n",
    "            last_json = '{ \"visual_perception\": %s, \"audio_perception\": %s }' % matches[-1]\n",
    "            return json.loads(last_json)\n",
    "        except json.JSONDecodeError:\n",
    "            pass\n",
    "    return {\"visual_perception\": None, \"audio_perception\": None}"
   ]
  },
  {
   "cell_type": "code",
   "execution_count": 11,
   "id": "fc850023-65f0-4a78-b611-76d46d61d3e8",
   "metadata": {},
   "outputs": [],
   "source": [
    "results = []\n",
    "\n",
    "for row in sample_reviews_df.iter_rows(named=True):\n",
    "    review_id = row[\"recommendationid\"]\n",
    "    game_title = row[\"game\"]\n",
    "    review_text = row[\"review\"]\n",
    "\n",
    "    prompt = make_prompt(review_text)\n",
    "\n",
    "    inputs = tokenizer(prompt, return_tensors=\"pt\").to(model.device)\n",
    "    with torch.no_grad():\n",
    "        output = model.generate(\n",
    "            **inputs,\n",
    "            max_new_tokens=100,\n",
    "            temperature=0.2,\n",
    "            top_p=1.0,\n",
    "            do_sample=True\n",
    "        )\n",
    "\n",
    "    decoded = tokenizer.decode(output[0], skip_special_tokens=True)\n",
    "    parsed = extract_json_block(decoded)\n",
    "\n",
    "    results.append({\n",
    "        \"recommendationid\": review_id,\n",
    "        \"game\": game_title,\n",
    "        \"review\": review_text,\n",
    "        \"visual_perception\": parsed[\"visual_perception\"],\n",
    "        \"audio_perception\": parsed[\"audio_perception\"]\n",
    "    })"
   ]
  },
  {
   "cell_type": "code",
   "execution_count": 12,
   "id": "b8e37953-c5c2-42ab-a640-4144f7a28c6d",
   "metadata": {},
   "outputs": [
    {
     "data": {
      "text/html": [
       "<div><style>\n",
       ".dataframe > thead > tr,\n",
       ".dataframe > tbody > tr {\n",
       "  text-align: right;\n",
       "  white-space: pre-wrap;\n",
       "}\n",
       "</style>\n",
       "<small>shape: (20, 5)</small><table border=\"1\" class=\"dataframe\"><thead><tr><th>recommendationid</th><th>game</th><th>review</th><th>visual_perception</th><th>audio_perception</th></tr><tr><td>i64</td><td>str</td><td>str</td><td>str</td><td>str</td></tr></thead><tbody><tr><td>93432934</td><td>&quot;Need for Speed™ Hot Pursuit Re…</td><td>&quot;Just a graphical upgrade with …</td><td>&quot;slightly worse looking graphic…</td><td>null</td></tr><tr><td>16366885</td><td>&quot;Mercenary Kings&quot;</td><td>&quot;ข้อดี&nbsp;&nbsp;- สนุกมาก - คราฟปืน,มีด…</td><td>null</td><td>null</td></tr><tr><td>99426611</td><td>&quot;Tom Clancy&#x27;s Rainbow Six Siege&quot;</td><td>&quot;:) 8) me gusta bastante&nbsp;&nbsp;&quot;</td><td>null</td><td>null</td></tr><tr><td>96427458</td><td>&quot;UNBEATABLE [white label]&quot;</td><td>&quot;Ohhh my!!!!! Who ever is readi…</td><td>&quot;incredible one of a kind art s…</td><td>&quot;Sick songs (love the drums)&quot;</td></tr><tr><td>80204144</td><td>&quot;Fallout: New Vegas PCR&quot;</td><td>&quot;9 гулей в ракете из 10&quot;</td><td>null</td><td>null</td></tr><tr><td>&hellip;</td><td>&hellip;</td><td>&hellip;</td><td>&hellip;</td><td>&hellip;</td></tr><tr><td>127110915</td><td>&quot;Virtual Cottage&quot;</td><td>&quot;топ за свои деньги&quot;</td><td>null</td><td>null</td></tr><tr><td>109152307</td><td>&quot;Fable - The Lost Chapters&quot;</td><td>&quot;Fun fact: this game taught me …</td><td>null</td><td>null</td></tr><tr><td>71576818</td><td>&quot;Wallpaper Engine&quot;</td><td>&quot;最喜欢的就是 去浏览 好友（yiwan）所订阅的壁纸&quot;</td><td>null</td><td>null</td></tr><tr><td>14057292</td><td>&quot;Counter-Strike 2&quot;</td><td>&quot;I like this game&quot;</td><td>null</td><td>null</td></tr><tr><td>17180272</td><td>&quot;Child of Light&quot;</td><td>&quot;More than likely one of the be…</td><td>null</td><td>null</td></tr></tbody></table></div>"
      ],
      "text/plain": [
       "shape: (20, 5)\n",
       "┌──────────────────┬───────────────────┬───────────────────┬───────────────────┬───────────────────┐\n",
       "│ recommendationid ┆ game              ┆ review            ┆ visual_perception ┆ audio_perception  │\n",
       "│ ---              ┆ ---               ┆ ---               ┆ ---               ┆ ---               │\n",
       "│ i64              ┆ str               ┆ str               ┆ str               ┆ str               │\n",
       "╞══════════════════╪═══════════════════╪═══════════════════╪═══════════════════╪═══════════════════╡\n",
       "│ 93432934         ┆ Need for Speed™   ┆ Just a graphical  ┆ slightly worse    ┆ null              │\n",
       "│                  ┆ Hot Pursuit Re…   ┆ upgrade with …    ┆ looking graphic…  ┆                   │\n",
       "│ 16366885         ┆ Mercenary Kings   ┆ ข้อดี  - สนุกมาก -   ┆ null              ┆ null              │\n",
       "│                  ┆                   ┆ คราฟปืน,มีด…        ┆                   ┆                   │\n",
       "│ 99426611         ┆ Tom Clancy's      ┆ :) 8) me gusta    ┆ null              ┆ null              │\n",
       "│                  ┆ Rainbow Six Siege ┆ bastante          ┆                   ┆                   │\n",
       "│ 96427458         ┆ UNBEATABLE [white ┆ Ohhh my!!!!! Who  ┆ incredible one of ┆ Sick songs (love  │\n",
       "│                  ┆ label]            ┆ ever is readi…    ┆ a kind art s…     ┆ the drums)        │\n",
       "│ 80204144         ┆ Fallout: New      ┆ 9 гулей в ракете  ┆ null              ┆ null              │\n",
       "│                  ┆ Vegas PCR         ┆ из 10             ┆                   ┆                   │\n",
       "│ …                ┆ …                 ┆ …                 ┆ …                 ┆ …                 │\n",
       "│ 127110915        ┆ Virtual Cottage   ┆ топ за свои       ┆ null              ┆ null              │\n",
       "│                  ┆                   ┆ деньги            ┆                   ┆                   │\n",
       "│ 109152307        ┆ Fable - The Lost  ┆ Fun fact: this    ┆ null              ┆ null              │\n",
       "│                  ┆ Chapters          ┆ game taught me …  ┆                   ┆                   │\n",
       "│ 71576818         ┆ Wallpaper Engine  ┆ 最喜欢的就是      ┆ null              ┆ null              │\n",
       "│                  ┆                   ┆ 去浏览 好友（yiwa ┆                   ┆                   │\n",
       "│                  ┆                   ┆ n）所订阅的壁纸   ┆                   ┆                   │\n",
       "│ 14057292         ┆ Counter-Strike 2  ┆ I like this game  ┆ null              ┆ null              │\n",
       "│ 17180272         ┆ Child of Light    ┆ More than likely  ┆ null              ┆ null              │\n",
       "│                  ┆                   ┆ one of the be…    ┆                   ┆                   │\n",
       "└──────────────────┴───────────────────┴───────────────────┴───────────────────┴───────────────────┘"
      ]
     },
     "execution_count": 12,
     "metadata": {},
     "output_type": "execute_result"
    }
   ],
   "source": [
    "pl.DataFrame(results)"
   ]
  },
  {
   "cell_type": "code",
   "execution_count": null,
   "id": "4554c0cf-30fd-4069-a27d-c10175394b55",
   "metadata": {},
   "outputs": [],
   "source": [
    "df.write_csv(\"../data/user_reviews/processed/all_reviews_processed.csv\")"
   ]
  }
 ],
 "metadata": {
  "kernelspec": {
   "display_name": "Python (game-inn)",
   "language": "python",
   "name": "game-inn"
  },
  "language_info": {
   "codemirror_mode": {
    "name": "ipython",
    "version": 3
   },
   "file_extension": ".py",
   "mimetype": "text/x-python",
   "name": "python",
   "nbconvert_exporter": "python",
   "pygments_lexer": "ipython3",
   "version": "3.12.4"
  }
 },
 "nbformat": 4,
 "nbformat_minor": 5
}
